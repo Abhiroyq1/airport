{
 "cells": [
  {
   "cell_type": "code",
   "execution_count": 13,
   "metadata": {},
   "outputs": [],
   "source": [
    "import pandas as pd\n",
    "import numpy as np\n",
    "import pandas_profiling"
   ]
  },
  {
   "cell_type": "markdown",
   "metadata": {},
   "source": [
    "- <b>callsign</b>: the identifier of the flight displayed on ATC screens (usually the first three letters are reserved for an - - <b>airline</b>: AFR for Air France, DLH for Lufthansa, etc.)\n",
    "- <b>number</b>: the commercial number of the flight, when available (the matching with the callsign comes from public open API)\n",
    "- <b>icao24</b>: the transponder unique identification number;\n",
    "- <b>registration</b>: the aircraft tail number (when available);\n",
    "- <b>typecode</b>: the aircraft model type (when available);\n",
    "- <b>origin</b>: a four letter code for the origin airport of the flight (when available);\n",
    "- <b>destination</b>: a four letter code for the destination airport of the flight (when available);\n",
    "- <b>firstseen</b>: the UTC timestamp of the first message received by the OpenSky Network;\n",
    "- <b>lastseen</b>: the UTC timestamp of the last message received by the OpenSky Network;\n",
    "- <b>day</b>: the UTC day of the last message received by the OpenSky Network;\n",
    "- <b>latitude_1, longitude_1, altitude_1</b>: the first detected position of the aircraft;\n",
    "- <b>latitude_2, longitude_2, altitude_2</b>: the last detected position of the aircraft."
   ]
  },
  {
   "cell_type": "code",
   "execution_count": 34,
   "metadata": {},
   "outputs": [],
   "source": [
    "flightlist_1 = pd.read_csv('flightlist_20200401_20200430.csv')"
   ]
  },
  {
   "cell_type": "code",
   "execution_count": 35,
   "metadata": {},
   "outputs": [],
   "source": [
    "flightlist = flightlist[:]"
   ]
  },
  {
   "cell_type": "markdown",
   "metadata": {},
   "source": [
    "As of January 2017, the OpenFlights Airports Database contains over 10,000 airports, train stations and ferry terminals spanning the globe, as shown in the map above. Each entry contains the following information:\n",
    "\n",
    "- <b>Airport ID</b>\tUnique OpenFlights identifier for this airport.\n",
    "- <b>Name</b>\tName of airport. May or may not contain the City name.\n",
    "- <b>City</b>\tMain city served by airport. May be spelled differently from Name.\n",
    "- <b>Country</b>\tCountry or territory where airport is located. See Countries to cross-reference to ISO 3166-1 codes.\n",
    "- <b>IATA</b>\t3-letter IATA code. Null if not assigned/unknown.\n",
    "- <b>ICAO</b>\t4-letter ICAO code.\n",
    "Null if not assigned.\n",
    "- <b>Latitude</b>\tDecimal degrees, usually to six significant digits. Negative is South, positive is North.\n",
    "- <b>Longitude</b>\tDecimal degrees, usually to six significant digits. Negative is West, positive is East.\n",
    "- <b>Altitude</b>\tIn feet.\n",
    "- <b>Timezone</b>\tHours offset from UTC. Fractional hours are expressed as decimals, eg. India is 5.5.\n",
    "- <b>DST</b>\tDaylight savings time. One of E (Europe), A (US/Canada), S (South America), O (Australia), Z (New Zealand), N (None) or U (Unknown). See also: Help: Time\n",
    "- <b>Tz</b> database time zone\tTimezone in \"tz\" (Olson) format, eg. \"America/Los_Angeles\".\n",
    "- <b>Type</b>\tType of the airport. Value \"airport\" for air terminals, \"station\" for train stations, \"port\" for ferry terminals and \"unknown\" if not known. In airports.csv, only type=airport is included.\n",
    "- <b>Source</b>\tSource of this data. \"OurAirports\" for data sourced from OurAirports, \"Legacy\" for old data not matched to OurAirports (mostly DAFIF), \"User\" for unverified user contributions. In airports.csv, only source=OurAirports is included."
   ]
  },
  {
   "cell_type": "code",
   "execution_count": 36,
   "metadata": {},
   "outputs": [],
   "source": [
    "airport = pd.read_csv(r\"https://raw.githubusercontent.com/jpatokal/openflights/master/data/airports.dat\", sep=',', header=None)"
   ]
  },
  {
   "cell_type": "code",
   "execution_count": 37,
   "metadata": {},
   "outputs": [
    {
     "data": {
      "text/html": [
       "<div>\n",
       "<style scoped>\n",
       "    .dataframe tbody tr th:only-of-type {\n",
       "        vertical-align: middle;\n",
       "    }\n",
       "\n",
       "    .dataframe tbody tr th {\n",
       "        vertical-align: top;\n",
       "    }\n",
       "\n",
       "    .dataframe thead th {\n",
       "        text-align: right;\n",
       "    }\n",
       "</style>\n",
       "<table border=\"1\" class=\"dataframe\">\n",
       "  <thead>\n",
       "    <tr style=\"text-align: right;\">\n",
       "      <th></th>\n",
       "      <th>callsign</th>\n",
       "      <th>number</th>\n",
       "      <th>icao24</th>\n",
       "      <th>registration</th>\n",
       "      <th>typecode</th>\n",
       "      <th>origin</th>\n",
       "      <th>destination</th>\n",
       "      <th>firstseen</th>\n",
       "      <th>lastseen</th>\n",
       "      <th>day</th>\n",
       "      <th>latitude_1</th>\n",
       "      <th>longitude_1</th>\n",
       "      <th>altitude_1</th>\n",
       "      <th>latitude_2</th>\n",
       "      <th>longitude_2</th>\n",
       "      <th>altitude_2</th>\n",
       "      <th>len_icao</th>\n",
       "    </tr>\n",
       "  </thead>\n",
       "  <tbody>\n",
       "    <tr>\n",
       "      <th>0</th>\n",
       "      <td>HBAL102</td>\n",
       "      <td>NaN</td>\n",
       "      <td>A21C0F</td>\n",
       "      <td>NaN</td>\n",
       "      <td>NaN</td>\n",
       "      <td>NaN</td>\n",
       "      <td>NaN</td>\n",
       "      <td>2020-03-31 00:41:44+00:00</td>\n",
       "      <td>2020-04-01 22:50:47+00:00</td>\n",
       "      <td>2020-04-01 00:00:00+00:00</td>\n",
       "      <td>-4.821136</td>\n",
       "      <td>-76.319370</td>\n",
       "      <td>18288.0</td>\n",
       "      <td>-4.524902</td>\n",
       "      <td>-79.010274</td>\n",
       "      <td>2194.56</td>\n",
       "      <td>6</td>\n",
       "    </tr>\n",
       "    <tr>\n",
       "      <th>1</th>\n",
       "      <td>AUA1028</td>\n",
       "      <td>NaN</td>\n",
       "      <td>440081</td>\n",
       "      <td>OE-LPD</td>\n",
       "      <td>B772</td>\n",
       "      <td>YSSY</td>\n",
       "      <td>LOWW</td>\n",
       "      <td>2020-03-31 03:29:15+00:00</td>\n",
       "      <td>2020-04-01 00:41:43+00:00</td>\n",
       "      <td>2020-04-01 00:00:00+00:00</td>\n",
       "      <td>-33.963489</td>\n",
       "      <td>151.180630</td>\n",
       "      <td>0.0</td>\n",
       "      <td>48.117417</td>\n",
       "      <td>16.549988</td>\n",
       "      <td>NaN</td>\n",
       "      <td>6</td>\n",
       "    </tr>\n",
       "    <tr>\n",
       "      <th>2</th>\n",
       "      <td>ABW120</td>\n",
       "      <td>NaN</td>\n",
       "      <td>424564</td>\n",
       "      <td>VQ-BRJ</td>\n",
       "      <td>B748</td>\n",
       "      <td>KORD</td>\n",
       "      <td>UUEE</td>\n",
       "      <td>2020-03-31 07:07:17+00:00</td>\n",
       "      <td>2020-04-01 12:54:29+00:00</td>\n",
       "      <td>2020-04-01 00:00:00+00:00</td>\n",
       "      <td>41.965911</td>\n",
       "      <td>-87.883152</td>\n",
       "      <td>0.0</td>\n",
       "      <td>55.983490</td>\n",
       "      <td>37.495839</td>\n",
       "      <td>472.44</td>\n",
       "      <td>6</td>\n",
       "    </tr>\n",
       "    <tr>\n",
       "      <th>3</th>\n",
       "      <td>CSN461</td>\n",
       "      <td>CZ461</td>\n",
       "      <td>780DA8</td>\n",
       "      <td>B-2026</td>\n",
       "      <td>B77L</td>\n",
       "      <td>KLAX</td>\n",
       "      <td>EDDF</td>\n",
       "      <td>2020-03-31 07:15:52+00:00</td>\n",
       "      <td>2020-04-01 12:02:53+00:00</td>\n",
       "      <td>2020-04-01 00:00:00+00:00</td>\n",
       "      <td>33.936302</td>\n",
       "      <td>-118.413963</td>\n",
       "      <td>0.0</td>\n",
       "      <td>50.035675</td>\n",
       "      <td>8.572299</td>\n",
       "      <td>45.72</td>\n",
       "      <td>6</td>\n",
       "    </tr>\n",
       "    <tr>\n",
       "      <th>4</th>\n",
       "      <td>ETH3730</td>\n",
       "      <td>NaN</td>\n",
       "      <td>04015C</td>\n",
       "      <td>NaN</td>\n",
       "      <td>NaN</td>\n",
       "      <td>OMSJ</td>\n",
       "      <td>EBLG</td>\n",
       "      <td>2020-03-31 08:05:10+00:00</td>\n",
       "      <td>2020-04-01 01:15:08+00:00</td>\n",
       "      <td>2020-04-01 00:00:00+00:00</td>\n",
       "      <td>25.386425</td>\n",
       "      <td>55.422139</td>\n",
       "      <td>609.6</td>\n",
       "      <td>50.634247</td>\n",
       "      <td>5.439027</td>\n",
       "      <td>76.20</td>\n",
       "      <td>6</td>\n",
       "    </tr>\n",
       "  </tbody>\n",
       "</table>\n",
       "</div>"
      ],
      "text/plain": [
       "  callsign number  icao24 registration typecode origin destination  \\\n",
       "0  HBAL102    NaN  A21C0F          NaN      NaN    NaN         NaN   \n",
       "1  AUA1028    NaN  440081       OE-LPD     B772   YSSY        LOWW   \n",
       "2   ABW120    NaN  424564       VQ-BRJ     B748   KORD        UUEE   \n",
       "3   CSN461  CZ461  780DA8       B-2026     B77L   KLAX        EDDF   \n",
       "4  ETH3730    NaN  04015C          NaN      NaN   OMSJ        EBLG   \n",
       "\n",
       "                   firstseen                   lastseen  \\\n",
       "0  2020-03-31 00:41:44+00:00  2020-04-01 22:50:47+00:00   \n",
       "1  2020-03-31 03:29:15+00:00  2020-04-01 00:41:43+00:00   \n",
       "2  2020-03-31 07:07:17+00:00  2020-04-01 12:54:29+00:00   \n",
       "3  2020-03-31 07:15:52+00:00  2020-04-01 12:02:53+00:00   \n",
       "4  2020-03-31 08:05:10+00:00  2020-04-01 01:15:08+00:00   \n",
       "\n",
       "                         day  latitude_1  longitude_1  altitude_1  latitude_2  \\\n",
       "0  2020-04-01 00:00:00+00:00   -4.821136   -76.319370     18288.0   -4.524902   \n",
       "1  2020-04-01 00:00:00+00:00  -33.963489   151.180630         0.0   48.117417   \n",
       "2  2020-04-01 00:00:00+00:00   41.965911   -87.883152         0.0   55.983490   \n",
       "3  2020-04-01 00:00:00+00:00   33.936302  -118.413963         0.0   50.035675   \n",
       "4  2020-04-01 00:00:00+00:00   25.386425    55.422139       609.6   50.634247   \n",
       "\n",
       "   longitude_2  altitude_2  len_icao  \n",
       "0   -79.010274     2194.56         6  \n",
       "1    16.549988         NaN         6  \n",
       "2    37.495839      472.44         6  \n",
       "3     8.572299       45.72         6  \n",
       "4     5.439027       76.20         6  "
      ]
     },
     "execution_count": 37,
     "metadata": {},
     "output_type": "execute_result"
    }
   ],
   "source": [
    "flightlist.head()"
   ]
  },
  {
   "cell_type": "code",
   "execution_count": 38,
   "metadata": {},
   "outputs": [],
   "source": [
    "flightlist['icao24'] = flightlist['icao24'].str.upper()"
   ]
  },
  {
   "cell_type": "code",
   "execution_count": 39,
   "metadata": {},
   "outputs": [],
   "source": [
    "airport.columns = ['Airport ID', 'Name', 'City', 'Country', 'IATA', 'ICAO', 'Latitude', 'Longitude', 'Altitude', 'TimeZone', 'DST', 'TZ', 'Type','Source']"
   ]
  },
  {
   "cell_type": "code",
   "execution_count": 47,
   "metadata": {
    "scrolled": true
   },
   "outputs": [
    {
     "data": {
      "text/html": [
       "<div>\n",
       "<style scoped>\n",
       "    .dataframe tbody tr th:only-of-type {\n",
       "        vertical-align: middle;\n",
       "    }\n",
       "\n",
       "    .dataframe tbody tr th {\n",
       "        vertical-align: top;\n",
       "    }\n",
       "\n",
       "    .dataframe thead th {\n",
       "        text-align: right;\n",
       "    }\n",
       "</style>\n",
       "<table border=\"1\" class=\"dataframe\">\n",
       "  <thead>\n",
       "    <tr style=\"text-align: right;\">\n",
       "      <th></th>\n",
       "      <th>Airport ID</th>\n",
       "      <th>Name</th>\n",
       "      <th>City</th>\n",
       "      <th>Country</th>\n",
       "      <th>IATA</th>\n",
       "      <th>ICAO</th>\n",
       "      <th>Latitude</th>\n",
       "      <th>Longitude</th>\n",
       "      <th>Altitude</th>\n",
       "      <th>TimeZone</th>\n",
       "      <th>DST</th>\n",
       "      <th>TZ</th>\n",
       "      <th>Type</th>\n",
       "      <th>Source</th>\n",
       "    </tr>\n",
       "  </thead>\n",
       "  <tbody>\n",
       "    <tr>\n",
       "      <th>380</th>\n",
       "      <td>384</td>\n",
       "      <td>Stendal-Borstel Airport</td>\n",
       "      <td>Stendal</td>\n",
       "      <td>Germany</td>\n",
       "      <td>NaN</td>\n",
       "      <td>EDOV</td>\n",
       "      <td>52.628887</td>\n",
       "      <td>11.818611</td>\n",
       "      <td>184</td>\n",
       "      <td>1</td>\n",
       "      <td>E</td>\n",
       "      <td>Europe/Berlin</td>\n",
       "      <td>airport</td>\n",
       "      <td>OurAirports</td>\n",
       "    </tr>\n",
       "    <tr>\n",
       "      <th>2578</th>\n",
       "      <td>2713</td>\n",
       "      <td>Camilo Daza International Airport</td>\n",
       "      <td>Cucuta</td>\n",
       "      <td>Colombia</td>\n",
       "      <td>CUC</td>\n",
       "      <td>SKCC</td>\n",
       "      <td>7.927570</td>\n",
       "      <td>-72.511500</td>\n",
       "      <td>1096</td>\n",
       "      <td>-5</td>\n",
       "      <td>U</td>\n",
       "      <td>America/Bogota</td>\n",
       "      <td>airport</td>\n",
       "      <td>OurAirports</td>\n",
       "    </tr>\n",
       "    <tr>\n",
       "      <th>1247</th>\n",
       "      <td>1282</td>\n",
       "      <td>Saint-Girons-Antichan Airport</td>\n",
       "      <td>St.-girons</td>\n",
       "      <td>France</td>\n",
       "      <td>NaN</td>\n",
       "      <td>LFCG</td>\n",
       "      <td>43.007801</td>\n",
       "      <td>1.103150</td>\n",
       "      <td>1368</td>\n",
       "      <td>1</td>\n",
       "      <td>E</td>\n",
       "      <td>Europe/Paris</td>\n",
       "      <td>airport</td>\n",
       "      <td>OurAirports</td>\n",
       "    </tr>\n",
       "    <tr>\n",
       "      <th>4404</th>\n",
       "      <td>5710</td>\n",
       "      <td>Gulu Airport</td>\n",
       "      <td>Gulu</td>\n",
       "      <td>Uganda</td>\n",
       "      <td>ULU</td>\n",
       "      <td>HUGU</td>\n",
       "      <td>2.805560</td>\n",
       "      <td>32.271801</td>\n",
       "      <td>3510</td>\n",
       "      <td>3</td>\n",
       "      <td>U</td>\n",
       "      <td>Africa/Kampala</td>\n",
       "      <td>airport</td>\n",
       "      <td>OurAirports</td>\n",
       "    </tr>\n",
       "    <tr>\n",
       "      <th>1317</th>\n",
       "      <td>1353</td>\n",
       "      <td>Marseille Provence Airport</td>\n",
       "      <td>Marseille</td>\n",
       "      <td>France</td>\n",
       "      <td>MRS</td>\n",
       "      <td>LFML</td>\n",
       "      <td>43.439272</td>\n",
       "      <td>5.221424</td>\n",
       "      <td>74</td>\n",
       "      <td>1</td>\n",
       "      <td>E</td>\n",
       "      <td>Europe/Paris</td>\n",
       "      <td>airport</td>\n",
       "      <td>OurAirports</td>\n",
       "    </tr>\n",
       "  </tbody>\n",
       "</table>\n",
       "</div>"
      ],
      "text/plain": [
       "      Airport ID                               Name        City   Country  \\\n",
       "380          384            Stendal-Borstel Airport     Stendal   Germany   \n",
       "2578        2713  Camilo Daza International Airport      Cucuta  Colombia   \n",
       "1247        1282      Saint-Girons-Antichan Airport  St.-girons    France   \n",
       "4404        5710                       Gulu Airport        Gulu    Uganda   \n",
       "1317        1353         Marseille Provence Airport   Marseille    France   \n",
       "\n",
       "     IATA  ICAO   Latitude  Longitude  Altitude TimeZone DST              TZ  \\\n",
       "380   NaN  EDOV  52.628887  11.818611       184        1   E   Europe/Berlin   \n",
       "2578  CUC  SKCC   7.927570 -72.511500      1096       -5   U  America/Bogota   \n",
       "1247  NaN  LFCG  43.007801   1.103150      1368        1   E    Europe/Paris   \n",
       "4404  ULU  HUGU   2.805560  32.271801      3510        3   U  Africa/Kampala   \n",
       "1317  MRS  LFML  43.439272   5.221424        74        1   E    Europe/Paris   \n",
       "\n",
       "         Type       Source  \n",
       "380   airport  OurAirports  \n",
       "2578  airport  OurAirports  \n",
       "1247  airport  OurAirports  \n",
       "4404  airport  OurAirports  \n",
       "1317  airport  OurAirports  "
      ]
     },
     "execution_count": 47,
     "metadata": {},
     "output_type": "execute_result"
    }
   ],
   "source": [
    "airport.sample(5)"
   ]
  },
  {
   "cell_type": "code",
   "execution_count": 41,
   "metadata": {},
   "outputs": [],
   "source": [
    "airport['IATA'] = np.where(airport['IATA']==r'\\N',np.NaN, airport['IATA'])"
   ]
  },
  {
   "cell_type": "code",
   "execution_count": 42,
   "metadata": {},
   "outputs": [],
   "source": [
    "airport['ICAO'] = np.where(airport['ICAO']==r'\\N',np.NaN, airport['ICAO'])"
   ]
  },
  {
   "cell_type": "code",
   "execution_count": 43,
   "metadata": {},
   "outputs": [
    {
     "data": {
      "text/plain": [
       "Airport ID                    9830\n",
       "Name                Mpanda Airport\n",
       "City                        Mpanda\n",
       "Country                   Tanzania\n",
       "IATA                           NaN\n",
       "ICAO                          HTMP\n",
       "Latitude                  -6.35537\n",
       "Longitude                  31.0841\n",
       "Altitude                      3520\n",
       "TimeZone                         3\n",
       "DST                              N\n",
       "TZ            Africa/Dar_es_Salaam\n",
       "Type                       airport\n",
       "Source                 OurAirports\n",
       "Name: 6662, dtype: object"
      ]
     },
     "execution_count": 43,
     "metadata": {},
     "output_type": "execute_result"
    }
   ],
   "source": [
    "airport.iloc[6662,:]"
   ]
  },
  {
   "cell_type": "code",
   "execution_count": 20,
   "metadata": {},
   "outputs": [
    {
     "data": {
      "text/plain": [
       "(842905, 16)"
      ]
     },
     "execution_count": 20,
     "metadata": {},
     "output_type": "execute_result"
    }
   ],
   "source": [
    "flightlist.shape"
   ]
  },
  {
   "cell_type": "code",
   "execution_count": 21,
   "metadata": {},
   "outputs": [
    {
     "data": {
      "text/plain": [
       "(7698, 14)"
      ]
     },
     "execution_count": 21,
     "metadata": {},
     "output_type": "execute_result"
    }
   ],
   "source": [
    "airport.shape"
   ]
  },
  {
   "cell_type": "code",
   "execution_count": 44,
   "metadata": {},
   "outputs": [
    {
     "name": "stdout",
     "output_type": "stream",
     "text": [
      "<class 'pandas.core.frame.DataFrame'>\n",
      "RangeIndex: 842905 entries, 0 to 842904\n",
      "Data columns (total 17 columns):\n",
      " #   Column        Non-Null Count   Dtype  \n",
      "---  ------        --------------   -----  \n",
      " 0   callsign      842905 non-null  object \n",
      " 1   number        193721 non-null  object \n",
      " 2   icao24        842905 non-null  object \n",
      " 3   registration  732770 non-null  object \n",
      " 4   typecode      495408 non-null  object \n",
      " 5   origin        650821 non-null  object \n",
      " 6   destination   714874 non-null  object \n",
      " 7   firstseen     842905 non-null  object \n",
      " 8   lastseen      842905 non-null  object \n",
      " 9   day           842905 non-null  object \n",
      " 10  latitude_1    842905 non-null  float64\n",
      " 11  longitude_1   842905 non-null  float64\n",
      " 12  altitude_1    842905 non-null  float64\n",
      " 13  latitude_2    842872 non-null  float64\n",
      " 14  longitude_2   842872 non-null  float64\n",
      " 15  altitude_2    829778 non-null  float64\n",
      " 16  len_icao      842905 non-null  int64  \n",
      "dtypes: float64(6), int64(1), object(10)\n",
      "memory usage: 109.3+ MB\n"
     ]
    }
   ],
   "source": [
    "flightlist.info()"
   ]
  },
  {
   "cell_type": "code",
   "execution_count": null,
   "metadata": {},
   "outputs": [],
   "source": []
  }
 ],
 "metadata": {
  "kernelspec": {
   "display_name": "Python 3",
   "language": "python",
   "name": "python3"
  },
  "language_info": {
   "codemirror_mode": {
    "name": "ipython",
    "version": 3
   },
   "file_extension": ".py",
   "mimetype": "text/x-python",
   "name": "python",
   "nbconvert_exporter": "python",
   "pygments_lexer": "ipython3",
   "version": "3.7.7"
  }
 },
 "nbformat": 4,
 "nbformat_minor": 4
}
