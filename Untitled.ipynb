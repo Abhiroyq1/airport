{
 "cells": [
  {
   "cell_type": "code",
   "execution_count": 1,
   "metadata": {
    "ExecuteTime": {
     "end_time": "2020-07-27T09:51:12.007306Z",
     "start_time": "2020-07-27T09:51:05.541406Z"
    }
   },
   "outputs": [],
   "source": [
    "import pandas as pd\n",
    "import numpy as np\n",
    "from pandas_profiling import ProfileReport\n",
    "import dask.dataframe as dd"
   ]
  },
  {
   "cell_type": "code",
   "execution_count": 185,
   "metadata": {
    "ExecuteTime": {
     "end_time": "2020-07-27T11:07:53.679810Z",
     "start_time": "2020-07-27T11:07:53.667933Z"
    }
   },
   "outputs": [],
   "source": [
    "import matplotlib.pyplot as plt\n",
    "import seaborn as sns"
   ]
  },
  {
   "cell_type": "code",
   "execution_count": 95,
   "metadata": {
    "ExecuteTime": {
     "end_time": "2020-07-27T10:07:15.138314Z",
     "start_time": "2020-07-27T10:07:06.790001Z"
    }
   },
   "outputs": [],
   "source": [
    "flightlist_1 = pd.read_csv('flightlist_20200501_20200531.csv', parse_dates=['firstseen', 'lastseen', 'day'])"
   ]
  },
  {
   "cell_type": "code",
   "execution_count": 96,
   "metadata": {
    "ExecuteTime": {
     "end_time": "2020-07-27T10:07:20.320846Z",
     "start_time": "2020-07-27T10:07:20.313107Z"
    }
   },
   "outputs": [],
   "source": [
    "flightlist = flightlist_1.iloc[:5000, :]"
   ]
  },
  {
   "cell_type": "code",
   "execution_count": 97,
   "metadata": {
    "ExecuteTime": {
     "end_time": "2020-07-27T10:07:21.057805Z",
     "start_time": "2020-07-27T10:07:21.047201Z"
    }
   },
   "outputs": [
    {
     "data": {
      "text/plain": [
       "(5000, 16)"
      ]
     },
     "execution_count": 97,
     "metadata": {},
     "output_type": "execute_result"
    }
   ],
   "source": [
    "flightlist.shape"
   ]
  },
  {
   "cell_type": "code",
   "execution_count": 98,
   "metadata": {
    "ExecuteTime": {
     "end_time": "2020-07-27T10:07:31.902614Z",
     "start_time": "2020-07-27T10:07:31.868131Z"
    }
   },
   "outputs": [
    {
     "name": "stdout",
     "output_type": "stream",
     "text": [
      "<class 'pandas.core.frame.DataFrame'>\n",
      "RangeIndex: 5000 entries, 0 to 4999\n",
      "Data columns (total 16 columns):\n",
      " #   Column        Non-Null Count  Dtype              \n",
      "---  ------        --------------  -----              \n",
      " 0   callsign      5000 non-null   object             \n",
      " 1   number        3299 non-null   object             \n",
      " 2   icao24        5000 non-null   object             \n",
      " 3   registration  5000 non-null   object             \n",
      " 4   typecode      4526 non-null   object             \n",
      " 5   origin        3670 non-null   object             \n",
      " 6   destination   3961 non-null   object             \n",
      " 7   firstseen     5000 non-null   datetime64[ns, UTC]\n",
      " 8   lastseen      5000 non-null   datetime64[ns, UTC]\n",
      " 9   day           5000 non-null   datetime64[ns, UTC]\n",
      " 10  latitude_1    5000 non-null   float64            \n",
      " 11  longitude_1   5000 non-null   float64            \n",
      " 12  altitude_1    5000 non-null   float64            \n",
      " 13  latitude_2    5000 non-null   float64            \n",
      " 14  longitude_2   5000 non-null   float64            \n",
      " 15  altitude_2    4823 non-null   float64            \n",
      "dtypes: datetime64[ns, UTC](3), float64(6), object(7)\n",
      "memory usage: 625.1+ KB\n"
     ]
    }
   ],
   "source": [
    "flightlist.info()"
   ]
  },
  {
   "cell_type": "code",
   "execution_count": 6,
   "metadata": {
    "ExecuteTime": {
     "end_time": "2020-07-27T09:51:55.291431Z",
     "start_time": "2020-07-27T09:51:52.484628Z"
    }
   },
   "outputs": [],
   "source": [
    "airport = pd.read_csv(r\"https://raw.githubusercontent.com/jpatokal/openflights/master/data/airports.dat\", sep=',', header=None)"
   ]
  },
  {
   "cell_type": "code",
   "execution_count": 8,
   "metadata": {
    "ExecuteTime": {
     "end_time": "2020-07-27T09:52:23.868214Z",
     "start_time": "2020-07-27T09:52:23.851457Z"
    }
   },
   "outputs": [],
   "source": [
    "airport.columns = ['Airport ID', 'Name', 'City', 'Country', 'IATA', 'ICAO', 'Latitude', 'Longitude', 'Altitude', 'TimeZone', 'DST', 'TZ', 'Type','Source']"
   ]
  },
  {
   "cell_type": "code",
   "execution_count": 7,
   "metadata": {
    "ExecuteTime": {
     "end_time": "2020-07-27T09:52:11.114775Z",
     "start_time": "2020-07-27T09:52:11.086703Z"
    }
   },
   "outputs": [],
   "source": [
    "flightlist_sample = flightlist[['callsign', 'number', 'icao24', 'registration', 'typecode', 'origin',\n",
    "       'destination', 'firstseen', 'lastseen', 'day']].drop_duplicates()"
   ]
  },
  {
   "cell_type": "code",
   "execution_count": 19,
   "metadata": {
    "ExecuteTime": {
     "end_time": "2020-07-27T09:55:13.186811Z",
     "start_time": "2020-07-27T09:55:13.152735Z"
    }
   },
   "outputs": [
    {
     "data": {
      "text/html": [
       "<div>\n",
       "<style scoped>\n",
       "    .dataframe tbody tr th:only-of-type {\n",
       "        vertical-align: middle;\n",
       "    }\n",
       "\n",
       "    .dataframe tbody tr th {\n",
       "        vertical-align: top;\n",
       "    }\n",
       "\n",
       "    .dataframe thead th {\n",
       "        text-align: right;\n",
       "    }\n",
       "</style>\n",
       "<table border=\"1\" class=\"dataframe\">\n",
       "  <thead>\n",
       "    <tr style=\"text-align: right;\">\n",
       "      <th></th>\n",
       "      <th>Airport ID</th>\n",
       "      <th>Name</th>\n",
       "      <th>City</th>\n",
       "      <th>Country</th>\n",
       "      <th>IATA</th>\n",
       "      <th>ICAO</th>\n",
       "      <th>Latitude</th>\n",
       "      <th>Longitude</th>\n",
       "      <th>Altitude</th>\n",
       "      <th>TimeZone</th>\n",
       "      <th>DST</th>\n",
       "      <th>TZ</th>\n",
       "      <th>Type</th>\n",
       "      <th>Source</th>\n",
       "    </tr>\n",
       "  </thead>\n",
       "  <tbody>\n",
       "    <tr>\n",
       "      <th>1028</th>\n",
       "      <td>1051</td>\n",
       "      <td>Fuerteventura Airport</td>\n",
       "      <td>Fuerteventura</td>\n",
       "      <td>Spain</td>\n",
       "      <td>FUE</td>\n",
       "      <td>GCFV</td>\n",
       "      <td>28.45270</td>\n",
       "      <td>-13.8638</td>\n",
       "      <td>85</td>\n",
       "      <td>0</td>\n",
       "      <td>E</td>\n",
       "      <td>Atlantic/Canary</td>\n",
       "      <td>airport</td>\n",
       "      <td>OurAirports</td>\n",
       "    </tr>\n",
       "    <tr>\n",
       "      <th>2581</th>\n",
       "      <td>2716</td>\n",
       "      <td>La Florida Airport</td>\n",
       "      <td>Tumaco</td>\n",
       "      <td>Colombia</td>\n",
       "      <td>TCO</td>\n",
       "      <td>SKCO</td>\n",
       "      <td>1.81442</td>\n",
       "      <td>-78.7492</td>\n",
       "      <td>8</td>\n",
       "      <td>-5</td>\n",
       "      <td>U</td>\n",
       "      <td>America/Bogota</td>\n",
       "      <td>airport</td>\n",
       "      <td>OurAirports</td>\n",
       "    </tr>\n",
       "  </tbody>\n",
       "</table>\n",
       "</div>"
      ],
      "text/plain": [
       "      Airport ID                   Name           City   Country IATA  ICAO  \\\n",
       "1028        1051  Fuerteventura Airport  Fuerteventura     Spain  FUE  GCFV   \n",
       "2581        2716     La Florida Airport         Tumaco  Colombia  TCO  SKCO   \n",
       "\n",
       "      Latitude  Longitude  Altitude TimeZone DST               TZ     Type  \\\n",
       "1028  28.45270   -13.8638        85        0   E  Atlantic/Canary  airport   \n",
       "2581   1.81442   -78.7492         8       -5   U   America/Bogota  airport   \n",
       "\n",
       "           Source  \n",
       "1028  OurAirports  \n",
       "2581  OurAirports  "
      ]
     },
     "execution_count": 19,
     "metadata": {},
     "output_type": "execute_result"
    }
   ],
   "source": [
    "airport.sample(2)"
   ]
  },
  {
   "cell_type": "code",
   "execution_count": 10,
   "metadata": {
    "ExecuteTime": {
     "end_time": "2020-07-27T09:52:45.452484Z",
     "start_time": "2020-07-27T09:52:45.431838Z"
    }
   },
   "outputs": [],
   "source": [
    "airport['IATA'] = np.where(airport['IATA']==r'\\N',np.NaN, airport['IATA'])\n",
    "airport['ICAO'] = np.where(airport['ICAO']==r'\\N',np.NaN, airport['ICAO'])"
   ]
  },
  {
   "cell_type": "code",
   "execution_count": 11,
   "metadata": {
    "ExecuteTime": {
     "end_time": "2020-07-27T09:52:52.187509Z",
     "start_time": "2020-07-27T09:52:52.158083Z"
    }
   },
   "outputs": [],
   "source": [
    "airport = airport[airport['IATA'].notna()]\n",
    "airport = airport[airport['ICAO'].notna()]"
   ]
  },
  {
   "cell_type": "code",
   "execution_count": 13,
   "metadata": {
    "ExecuteTime": {
     "end_time": "2020-07-27T09:53:14.841044Z",
     "start_time": "2020-07-27T09:53:14.816963Z"
    }
   },
   "outputs": [],
   "source": [
    "airport_sample = airport[['Name', 'IATA', 'ICAO', 'TZ']].drop_duplicates()"
   ]
  },
  {
   "cell_type": "code",
   "execution_count": 14,
   "metadata": {
    "ExecuteTime": {
     "end_time": "2020-07-27T09:53:24.223282Z",
     "start_time": "2020-07-27T09:53:24.203683Z"
    }
   },
   "outputs": [],
   "source": [
    "flightlist_sample = flightlist_sample[flightlist_sample['origin'].notna()]"
   ]
  },
  {
   "cell_type": "code",
   "execution_count": 29,
   "metadata": {
    "ExecuteTime": {
     "end_time": "2020-07-27T10:04:03.573334Z",
     "start_time": "2020-07-27T10:04:03.545836Z"
    }
   },
   "outputs": [],
   "source": [
    "flightlist_origin = pd.merge(flightlist_sample, airport_sample, left_on='origin', right_on='ICAO')"
   ]
  },
  {
   "cell_type": "code",
   "execution_count": 21,
   "metadata": {
    "ExecuteTime": {
     "end_time": "2020-07-27T09:55:39.150416Z",
     "start_time": "2020-07-27T09:55:39.141590Z"
    }
   },
   "outputs": [],
   "source": [
    "o_list = flightlist_sample['origin'].unique().tolist()"
   ]
  },
  {
   "cell_type": "code",
   "execution_count": 22,
   "metadata": {
    "ExecuteTime": {
     "end_time": "2020-07-27T09:55:46.162282Z",
     "start_time": "2020-07-27T09:55:46.142050Z"
    }
   },
   "outputs": [],
   "source": [
    "i_list = airport_sample['ICAO'].unique().tolist()"
   ]
  },
  {
   "cell_type": "code",
   "execution_count": 24,
   "metadata": {
    "ExecuteTime": {
     "end_time": "2020-07-27T09:56:33.059692Z",
     "start_time": "2020-07-27T09:56:33.049622Z"
    }
   },
   "outputs": [
    {
     "data": {
      "text/plain": [
       "279"
      ]
     },
     "execution_count": 24,
     "metadata": {},
     "output_type": "execute_result"
    }
   ],
   "source": [
    "len(list(set(o_list).intersection(i_list)))"
   ]
  },
  {
   "cell_type": "code",
   "execution_count": 31,
   "metadata": {
    "ExecuteTime": {
     "end_time": "2020-07-27T10:04:12.643000Z",
     "start_time": "2020-07-27T10:04:12.622033Z"
    }
   },
   "outputs": [],
   "source": [
    "flightlist_destination = pd.merge(flightlist_origin, airport_sample, left_on='destination', right_on='ICAO', suffixes=['_origin', '_destination'])"
   ]
  },
  {
   "cell_type": "code",
   "execution_count": 33,
   "metadata": {
    "ExecuteTime": {
     "end_time": "2020-07-27T10:04:33.541892Z",
     "start_time": "2020-07-27T10:04:33.515421Z"
    }
   },
   "outputs": [
    {
     "data": {
      "text/html": [
       "<div>\n",
       "<style scoped>\n",
       "    .dataframe tbody tr th:only-of-type {\n",
       "        vertical-align: middle;\n",
       "    }\n",
       "\n",
       "    .dataframe tbody tr th {\n",
       "        vertical-align: top;\n",
       "    }\n",
       "\n",
       "    .dataframe thead th {\n",
       "        text-align: right;\n",
       "    }\n",
       "</style>\n",
       "<table border=\"1\" class=\"dataframe\">\n",
       "  <thead>\n",
       "    <tr style=\"text-align: right;\">\n",
       "      <th></th>\n",
       "      <th>callsign</th>\n",
       "      <th>number</th>\n",
       "      <th>icao24</th>\n",
       "      <th>registration</th>\n",
       "      <th>typecode</th>\n",
       "      <th>origin</th>\n",
       "      <th>destination</th>\n",
       "      <th>firstseen</th>\n",
       "      <th>lastseen</th>\n",
       "      <th>day</th>\n",
       "      <th>Name</th>\n",
       "      <th>IATA</th>\n",
       "      <th>ICAO</th>\n",
       "      <th>TZ</th>\n",
       "    </tr>\n",
       "  </thead>\n",
       "  <tbody>\n",
       "    <tr>\n",
       "      <th>584</th>\n",
       "      <td>FDX3</td>\n",
       "      <td>NaN</td>\n",
       "      <td>ac5c1f</td>\n",
       "      <td>N896FD</td>\n",
       "      <td>NaN</td>\n",
       "      <td>EDDF</td>\n",
       "      <td>NaN</td>\n",
       "      <td>2020-04-30 18:30:52+00:00</td>\n",
       "      <td>2020-05-01 03:53:38+00:00</td>\n",
       "      <td>2020-05-01 00:00:00+00:00</td>\n",
       "      <td>Frankfurt am Main Airport</td>\n",
       "      <td>FRA</td>\n",
       "      <td>EDDF</td>\n",
       "      <td>Europe/Berlin</td>\n",
       "    </tr>\n",
       "    <tr>\n",
       "      <th>1938</th>\n",
       "      <td>FDX1750</td>\n",
       "      <td>FX1750</td>\n",
       "      <td>a10c31</td>\n",
       "      <td>N167FE</td>\n",
       "      <td>NaN</td>\n",
       "      <td>KIND</td>\n",
       "      <td>KLAX</td>\n",
       "      <td>2020-05-01 07:51:30+00:00</td>\n",
       "      <td>2020-05-01 11:42:59+00:00</td>\n",
       "      <td>2020-05-01 00:00:00+00:00</td>\n",
       "      <td>Indianapolis International Airport</td>\n",
       "      <td>IND</td>\n",
       "      <td>KIND</td>\n",
       "      <td>America/New_York</td>\n",
       "    </tr>\n",
       "  </tbody>\n",
       "</table>\n",
       "</div>"
      ],
      "text/plain": [
       "     callsign  number  icao24 registration typecode origin destination  \\\n",
       "584      FDX3     NaN  ac5c1f       N896FD      NaN   EDDF         NaN   \n",
       "1938  FDX1750  FX1750  a10c31       N167FE      NaN   KIND        KLAX   \n",
       "\n",
       "                      firstseen                   lastseen  \\\n",
       "584   2020-04-30 18:30:52+00:00  2020-05-01 03:53:38+00:00   \n",
       "1938  2020-05-01 07:51:30+00:00  2020-05-01 11:42:59+00:00   \n",
       "\n",
       "                            day                                Name IATA  \\\n",
       "584   2020-05-01 00:00:00+00:00           Frankfurt am Main Airport  FRA   \n",
       "1938  2020-05-01 00:00:00+00:00  Indianapolis International Airport  IND   \n",
       "\n",
       "      ICAO                TZ  \n",
       "584   EDDF     Europe/Berlin  \n",
       "1938  KIND  America/New_York  "
      ]
     },
     "execution_count": 33,
     "metadata": {},
     "output_type": "execute_result"
    }
   ],
   "source": [
    "flightlist_origin.sample(2)"
   ]
  },
  {
   "cell_type": "code",
   "execution_count": 93,
   "metadata": {
    "ExecuteTime": {
     "end_time": "2020-07-27T10:05:22.440982Z",
     "start_time": "2020-07-27T10:05:22.403056Z"
    }
   },
   "outputs": [
    {
     "data": {
      "text/html": [
       "<div>\n",
       "<style scoped>\n",
       "    .dataframe tbody tr th:only-of-type {\n",
       "        vertical-align: middle;\n",
       "    }\n",
       "\n",
       "    .dataframe tbody tr th {\n",
       "        vertical-align: top;\n",
       "    }\n",
       "\n",
       "    .dataframe thead th {\n",
       "        text-align: right;\n",
       "    }\n",
       "</style>\n",
       "<table border=\"1\" class=\"dataframe\">\n",
       "  <thead>\n",
       "    <tr style=\"text-align: right;\">\n",
       "      <th></th>\n",
       "      <th>callsign</th>\n",
       "      <th>number</th>\n",
       "      <th>icao24</th>\n",
       "      <th>registration</th>\n",
       "      <th>typecode</th>\n",
       "      <th>origin</th>\n",
       "      <th>destination</th>\n",
       "      <th>firstseen</th>\n",
       "      <th>lastseen</th>\n",
       "      <th>day</th>\n",
       "      <th>Name_origin</th>\n",
       "      <th>IATA_origin</th>\n",
       "      <th>ICAO_origin</th>\n",
       "      <th>TZ_origin</th>\n",
       "      <th>Name_destination</th>\n",
       "      <th>IATA_destination</th>\n",
       "      <th>ICAO_destination</th>\n",
       "      <th>TZ_destination</th>\n",
       "    </tr>\n",
       "  </thead>\n",
       "  <tbody>\n",
       "    <tr>\n",
       "      <th>180</th>\n",
       "      <td>RPA3415</td>\n",
       "      <td>NaN</td>\n",
       "      <td>a86e35</td>\n",
       "      <td>N642RW</td>\n",
       "      <td>E170</td>\n",
       "      <td>KCVG</td>\n",
       "      <td>KIAH</td>\n",
       "      <td>2020-05-01 11:02:40+00:00</td>\n",
       "      <td>2020-05-01 12:56:15+00:00</td>\n",
       "      <td>2020-05-01 00:00:00+00:00</td>\n",
       "      <td>Cincinnati Northern Kentucky International Air...</td>\n",
       "      <td>CVG</td>\n",
       "      <td>KCVG</td>\n",
       "      <td>America/New_York</td>\n",
       "      <td>George Bush Intercontinental Houston Airport</td>\n",
       "      <td>IAH</td>\n",
       "      <td>KIAH</td>\n",
       "      <td>America/Chicago</td>\n",
       "    </tr>\n",
       "    <tr>\n",
       "      <th>1966</th>\n",
       "      <td>MAS6013</td>\n",
       "      <td>NaN</td>\n",
       "      <td>750264</td>\n",
       "      <td>9M-MUB</td>\n",
       "      <td>A332</td>\n",
       "      <td>WBKL</td>\n",
       "      <td>WMKK</td>\n",
       "      <td>2020-05-01 07:48:07+00:00</td>\n",
       "      <td>2020-05-01 09:43:58+00:00</td>\n",
       "      <td>2020-05-01 00:00:00+00:00</td>\n",
       "      <td>Labuan Airport</td>\n",
       "      <td>LBU</td>\n",
       "      <td>WBKL</td>\n",
       "      <td>Asia/Kuala_Lumpur</td>\n",
       "      <td>Kuala Lumpur International Airport</td>\n",
       "      <td>KUL</td>\n",
       "      <td>WMKK</td>\n",
       "      <td>Asia/Kuala_Lumpur</td>\n",
       "    </tr>\n",
       "  </tbody>\n",
       "</table>\n",
       "</div>"
      ],
      "text/plain": [
       "     callsign number  icao24 registration typecode origin destination  \\\n",
       "180   RPA3415    NaN  a86e35       N642RW     E170   KCVG        KIAH   \n",
       "1966  MAS6013    NaN  750264       9M-MUB     A332   WBKL        WMKK   \n",
       "\n",
       "                      firstseen                   lastseen  \\\n",
       "180   2020-05-01 11:02:40+00:00  2020-05-01 12:56:15+00:00   \n",
       "1966  2020-05-01 07:48:07+00:00  2020-05-01 09:43:58+00:00   \n",
       "\n",
       "                            day  \\\n",
       "180   2020-05-01 00:00:00+00:00   \n",
       "1966  2020-05-01 00:00:00+00:00   \n",
       "\n",
       "                                            Name_origin IATA_origin  \\\n",
       "180   Cincinnati Northern Kentucky International Air...         CVG   \n",
       "1966                                     Labuan Airport         LBU   \n",
       "\n",
       "     ICAO_origin          TZ_origin  \\\n",
       "180         KCVG   America/New_York   \n",
       "1966        WBKL  Asia/Kuala_Lumpur   \n",
       "\n",
       "                                  Name_destination IATA_destination  \\\n",
       "180   George Bush Intercontinental Houston Airport              IAH   \n",
       "1966            Kuala Lumpur International Airport              KUL   \n",
       "\n",
       "     ICAO_destination     TZ_destination  \n",
       "180              KIAH    America/Chicago  \n",
       "1966             WMKK  Asia/Kuala_Lumpur  "
      ]
     },
     "execution_count": 93,
     "metadata": {},
     "output_type": "execute_result"
    }
   ],
   "source": [
    "flightlist_destination.sample(2)"
   ]
  },
  {
   "cell_type": "markdown",
   "metadata": {},
   "source": [
    "### Finding Busy airports"
   ]
  },
  {
   "cell_type": "markdown",
   "metadata": {},
   "source": [
    "#### Origin airports"
   ]
  },
  {
   "cell_type": "code",
   "execution_count": 105,
   "metadata": {
    "ExecuteTime": {
     "end_time": "2020-07-27T10:11:43.315861Z",
     "start_time": "2020-07-27T10:11:43.292543Z"
    }
   },
   "outputs": [],
   "source": [
    "ori = flightlist_destination['origin'].value_counts().reset_index()"
   ]
  },
  {
   "cell_type": "code",
   "execution_count": 106,
   "metadata": {
    "ExecuteTime": {
     "end_time": "2020-07-27T10:12:24.384810Z",
     "start_time": "2020-07-27T10:12:24.380352Z"
    }
   },
   "outputs": [],
   "source": [
    "ori.columns = ['Ori_Airport_Code', \"Count\"]"
   ]
  },
  {
   "cell_type": "markdown",
   "metadata": {},
   "source": [
    "#### Destination airports"
   ]
  },
  {
   "cell_type": "code",
   "execution_count": 107,
   "metadata": {
    "ExecuteTime": {
     "end_time": "2020-07-27T10:12:52.367748Z",
     "start_time": "2020-07-27T10:12:52.353218Z"
    }
   },
   "outputs": [],
   "source": [
    "dest = flightlist_destination['destination'].value_counts().reset_index()"
   ]
  },
  {
   "cell_type": "code",
   "execution_count": 108,
   "metadata": {
    "ExecuteTime": {
     "end_time": "2020-07-27T10:13:06.663422Z",
     "start_time": "2020-07-27T10:13:06.658502Z"
    }
   },
   "outputs": [],
   "source": [
    "dest.columns = ['Dest_Airport_Code', \"Count\"]"
   ]
  },
  {
   "cell_type": "markdown",
   "metadata": {},
   "source": [
    "#### Checking names of top 10 busy origin airports"
   ]
  },
  {
   "cell_type": "code",
   "execution_count": 110,
   "metadata": {
    "ExecuteTime": {
     "end_time": "2020-07-27T10:13:44.001116Z",
     "start_time": "2020-07-27T10:13:43.979146Z"
    }
   },
   "outputs": [
    {
     "data": {
      "text/plain": [
       "['KORD',\n",
       " 'KSDF',\n",
       " 'VHHH',\n",
       " 'KDFW',\n",
       " 'KLAX',\n",
       " 'KDEN',\n",
       " 'KATL',\n",
       " 'PANC',\n",
       " 'KPHX',\n",
       " 'KIND']"
      ]
     },
     "execution_count": 110,
     "metadata": {},
     "output_type": "execute_result"
    }
   ],
   "source": [
    "ori['Ori_Airport_Code'].head(10).tolist()"
   ]
  },
  {
   "cell_type": "markdown",
   "metadata": {},
   "source": [
    "##### The busiest airports in terms of origin are:- 'KORD', 'KSDF', 'VHHH', 'KDFW', 'KLAX', 'KDEN', 'KATL', 'PANC', 'KPHX', 'KIND'"
   ]
  },
  {
   "cell_type": "markdown",
   "metadata": {},
   "source": [
    "#### Checking names of top 10 busy desgtination airports"
   ]
  },
  {
   "cell_type": "code",
   "execution_count": 112,
   "metadata": {
    "ExecuteTime": {
     "end_time": "2020-07-27T10:16:52.142990Z",
     "start_time": "2020-07-27T10:16:52.123883Z"
    }
   },
   "outputs": [
    {
     "name": "stdout",
     "output_type": "stream",
     "text": [
      "['KSDF', 'KORD', 'VHHH', 'KDFW', 'KLAX', 'KMIA', 'KPHX', 'KCVG', 'KATL', 'KPHL']\n"
     ]
    }
   ],
   "source": [
    "print(dest['Dest_Airport_Code'].head(10).tolist())"
   ]
  },
  {
   "cell_type": "markdown",
   "metadata": {},
   "source": [
    "##### The busiest airports in terms of origin are:-'KSDF', 'KORD', 'VHHH', 'KDFW', 'KLAX', 'KMIA', 'KPHX', 'KCVG', 'KATL', 'KPHL'"
   ]
  },
  {
   "cell_type": "markdown",
   "metadata": {},
   "source": [
    "### Taking common out of these 2 lists will give us the names of most busiest airports"
   ]
  },
  {
   "cell_type": "code",
   "execution_count": 114,
   "metadata": {
    "ExecuteTime": {
     "end_time": "2020-07-27T10:18:54.780117Z",
     "start_time": "2020-07-27T10:18:54.765158Z"
    }
   },
   "outputs": [],
   "source": [
    "busy_air = list(set(ori['Ori_Airport_Code'].head(10).tolist()).intersection(set(dest['Dest_Airport_Code'].head(10).tolist())))"
   ]
  },
  {
   "cell_type": "markdown",
   "metadata": {},
   "source": [
    "#### Busiest airport details"
   ]
  },
  {
   "cell_type": "code",
   "execution_count": 115,
   "metadata": {
    "ExecuteTime": {
     "end_time": "2020-07-27T10:21:59.131811Z",
     "start_time": "2020-07-27T10:21:59.108648Z"
    }
   },
   "outputs": [],
   "source": [
    "busy_airport = airport[airport['ICAO'].isin(busy_air)]"
   ]
  },
  {
   "cell_type": "code",
   "execution_count": 121,
   "metadata": {
    "ExecuteTime": {
     "end_time": "2020-07-27T10:31:43.573075Z",
     "start_time": "2020-07-27T10:31:43.559906Z"
    }
   },
   "outputs": [],
   "source": [
    "# busy_airport"
   ]
  },
  {
   "cell_type": "markdown",
   "metadata": {},
   "source": [
    "### Check concurrent busy airports"
   ]
  },
  {
   "cell_type": "code",
   "execution_count": 138,
   "metadata": {
    "ExecuteTime": {
     "end_time": "2020-07-27T10:46:24.112443Z",
     "start_time": "2020-07-27T10:46:24.101802Z"
    }
   },
   "outputs": [],
   "source": [
    "flightlist_destination['ori_dest'] = flightlist_destination['origin'] +\"_\"+ flightlist_destination['destination']"
   ]
  },
  {
   "cell_type": "code",
   "execution_count": 139,
   "metadata": {
    "ExecuteTime": {
     "end_time": "2020-07-27T10:46:34.869470Z",
     "start_time": "2020-07-27T10:46:34.838160Z"
    }
   },
   "outputs": [
    {
     "data": {
      "text/plain": [
       "SKBO_KMIA    18\n",
       "VHHH_RCTP    12\n",
       "PANC_KORD    10\n",
       "RCTP_VHHH    10\n",
       "VHHH_PANC    10\n",
       "             ..\n",
       "KPHX_KBWI     1\n",
       "KFLL_KSTL     1\n",
       "EDDK_KPHL     1\n",
       "KIAD_KIAH     1\n",
       "KCVG_CYYC     1\n",
       "Name: ori_dest, Length: 1823, dtype: int64"
      ]
     },
     "execution_count": 139,
     "metadata": {},
     "output_type": "execute_result"
    }
   ],
   "source": [
    "flightlist_destination['ori_dest'].value_counts()"
   ]
  },
  {
   "cell_type": "markdown",
   "metadata": {},
   "source": [
    "### Calculating flight population by time"
   ]
  },
  {
   "cell_type": "code",
   "execution_count": 124,
   "metadata": {
    "ExecuteTime": {
     "end_time": "2020-07-27T10:38:07.392737Z",
     "start_time": "2020-07-27T10:38:07.367260Z"
    }
   },
   "outputs": [],
   "source": [
    "flightlist_destination['day'] = flightlist_destination['day'].astype('datetime64[ns]')\n",
    "flightlist_destination['firstseen'] = flightlist_destination['firstseen'].astype('datetime64[ns]')"
   ]
  },
  {
   "cell_type": "code",
   "execution_count": 125,
   "metadata": {
    "ExecuteTime": {
     "end_time": "2020-07-27T10:38:08.226407Z",
     "start_time": "2020-07-27T10:38:08.199721Z"
    }
   },
   "outputs": [
    {
     "data": {
      "text/plain": [
       "<pandas.core.resample.DatetimeIndexResampler object at 0x00000212A40FB648>"
      ]
     },
     "execution_count": 125,
     "metadata": {},
     "output_type": "execute_result"
    }
   ],
   "source": [
    "flightlist_destination.set_index('day').resample('6h')"
   ]
  },
  {
   "cell_type": "markdown",
   "metadata": {},
   "source": [
    "#### Data frequency per day per hour for the month of May"
   ]
  },
  {
   "cell_type": "code",
   "execution_count": 140,
   "metadata": {
    "ExecuteTime": {
     "end_time": "2020-07-27T10:46:47.510928Z",
     "start_time": "2020-07-27T10:46:47.402659Z"
    }
   },
   "outputs": [
    {
     "data": {
      "text/html": [
       "<div>\n",
       "<style scoped>\n",
       "    .dataframe tbody tr th:only-of-type {\n",
       "        vertical-align: middle;\n",
       "    }\n",
       "\n",
       "    .dataframe tbody tr th {\n",
       "        vertical-align: top;\n",
       "    }\n",
       "\n",
       "    .dataframe thead tr th {\n",
       "        text-align: left;\n",
       "    }\n",
       "\n",
       "    .dataframe thead tr:last-of-type th {\n",
       "        text-align: right;\n",
       "    }\n",
       "</style>\n",
       "<table border=\"1\" class=\"dataframe\">\n",
       "  <thead>\n",
       "    <tr>\n",
       "      <th></th>\n",
       "      <th></th>\n",
       "      <th>callsign</th>\n",
       "      <th>number</th>\n",
       "      <th>icao24</th>\n",
       "      <th>registration</th>\n",
       "      <th>typecode</th>\n",
       "      <th>origin</th>\n",
       "      <th>destination</th>\n",
       "      <th>firstseen</th>\n",
       "      <th>lastseen</th>\n",
       "      <th>day</th>\n",
       "      <th>Name_origin</th>\n",
       "      <th>IATA_origin</th>\n",
       "      <th>ICAO_origin</th>\n",
       "      <th>TZ_origin</th>\n",
       "      <th>Name_destination</th>\n",
       "      <th>IATA_destination</th>\n",
       "      <th>ICAO_destination</th>\n",
       "      <th>TZ_destination</th>\n",
       "      <th>ori_dest</th>\n",
       "    </tr>\n",
       "    <tr>\n",
       "      <th></th>\n",
       "      <th></th>\n",
       "      <th>count</th>\n",
       "      <th>count</th>\n",
       "      <th>count</th>\n",
       "      <th>count</th>\n",
       "      <th>count</th>\n",
       "      <th>count</th>\n",
       "      <th>count</th>\n",
       "      <th>count</th>\n",
       "      <th>count</th>\n",
       "      <th>count</th>\n",
       "      <th>count</th>\n",
       "      <th>count</th>\n",
       "      <th>count</th>\n",
       "      <th>count</th>\n",
       "      <th>count</th>\n",
       "      <th>count</th>\n",
       "      <th>count</th>\n",
       "      <th>count</th>\n",
       "      <th>count</th>\n",
       "    </tr>\n",
       "    <tr>\n",
       "      <th>Day</th>\n",
       "      <th>First_Seen_Hours</th>\n",
       "      <th></th>\n",
       "      <th></th>\n",
       "      <th></th>\n",
       "      <th></th>\n",
       "      <th></th>\n",
       "      <th></th>\n",
       "      <th></th>\n",
       "      <th></th>\n",
       "      <th></th>\n",
       "      <th></th>\n",
       "      <th></th>\n",
       "      <th></th>\n",
       "      <th></th>\n",
       "      <th></th>\n",
       "      <th></th>\n",
       "      <th></th>\n",
       "      <th></th>\n",
       "      <th></th>\n",
       "      <th></th>\n",
       "    </tr>\n",
       "  </thead>\n",
       "  <tbody>\n",
       "    <tr>\n",
       "      <th rowspan=\"24\" valign=\"top\">1</th>\n",
       "      <th>0</th>\n",
       "      <td>295</td>\n",
       "      <td>183</td>\n",
       "      <td>295</td>\n",
       "      <td>295</td>\n",
       "      <td>259</td>\n",
       "      <td>295</td>\n",
       "      <td>295</td>\n",
       "      <td>295</td>\n",
       "      <td>295</td>\n",
       "      <td>295</td>\n",
       "      <td>295</td>\n",
       "      <td>295</td>\n",
       "      <td>295</td>\n",
       "      <td>295</td>\n",
       "      <td>295</td>\n",
       "      <td>295</td>\n",
       "      <td>295</td>\n",
       "      <td>295</td>\n",
       "      <td>295</td>\n",
       "    </tr>\n",
       "    <tr>\n",
       "      <th>1</th>\n",
       "      <td>228</td>\n",
       "      <td>143</td>\n",
       "      <td>228</td>\n",
       "      <td>228</td>\n",
       "      <td>209</td>\n",
       "      <td>228</td>\n",
       "      <td>228</td>\n",
       "      <td>228</td>\n",
       "      <td>228</td>\n",
       "      <td>228</td>\n",
       "      <td>228</td>\n",
       "      <td>228</td>\n",
       "      <td>228</td>\n",
       "      <td>228</td>\n",
       "      <td>228</td>\n",
       "      <td>228</td>\n",
       "      <td>228</td>\n",
       "      <td>228</td>\n",
       "      <td>228</td>\n",
       "    </tr>\n",
       "    <tr>\n",
       "      <th>2</th>\n",
       "      <td>258</td>\n",
       "      <td>170</td>\n",
       "      <td>258</td>\n",
       "      <td>258</td>\n",
       "      <td>237</td>\n",
       "      <td>258</td>\n",
       "      <td>258</td>\n",
       "      <td>258</td>\n",
       "      <td>258</td>\n",
       "      <td>258</td>\n",
       "      <td>258</td>\n",
       "      <td>258</td>\n",
       "      <td>258</td>\n",
       "      <td>258</td>\n",
       "      <td>258</td>\n",
       "      <td>258</td>\n",
       "      <td>258</td>\n",
       "      <td>258</td>\n",
       "      <td>258</td>\n",
       "    </tr>\n",
       "    <tr>\n",
       "      <th>3</th>\n",
       "      <td>158</td>\n",
       "      <td>89</td>\n",
       "      <td>158</td>\n",
       "      <td>158</td>\n",
       "      <td>143</td>\n",
       "      <td>158</td>\n",
       "      <td>158</td>\n",
       "      <td>158</td>\n",
       "      <td>158</td>\n",
       "      <td>158</td>\n",
       "      <td>158</td>\n",
       "      <td>158</td>\n",
       "      <td>158</td>\n",
       "      <td>158</td>\n",
       "      <td>158</td>\n",
       "      <td>158</td>\n",
       "      <td>158</td>\n",
       "      <td>158</td>\n",
       "      <td>158</td>\n",
       "    </tr>\n",
       "    <tr>\n",
       "      <th>4</th>\n",
       "      <td>89</td>\n",
       "      <td>52</td>\n",
       "      <td>89</td>\n",
       "      <td>89</td>\n",
       "      <td>81</td>\n",
       "      <td>89</td>\n",
       "      <td>89</td>\n",
       "      <td>89</td>\n",
       "      <td>89</td>\n",
       "      <td>89</td>\n",
       "      <td>89</td>\n",
       "      <td>89</td>\n",
       "      <td>89</td>\n",
       "      <td>89</td>\n",
       "      <td>89</td>\n",
       "      <td>89</td>\n",
       "      <td>89</td>\n",
       "      <td>89</td>\n",
       "      <td>89</td>\n",
       "    </tr>\n",
       "    <tr>\n",
       "      <th>5</th>\n",
       "      <td>98</td>\n",
       "      <td>67</td>\n",
       "      <td>98</td>\n",
       "      <td>98</td>\n",
       "      <td>92</td>\n",
       "      <td>98</td>\n",
       "      <td>98</td>\n",
       "      <td>98</td>\n",
       "      <td>98</td>\n",
       "      <td>98</td>\n",
       "      <td>98</td>\n",
       "      <td>98</td>\n",
       "      <td>98</td>\n",
       "      <td>98</td>\n",
       "      <td>98</td>\n",
       "      <td>98</td>\n",
       "      <td>98</td>\n",
       "      <td>98</td>\n",
       "      <td>98</td>\n",
       "    </tr>\n",
       "    <tr>\n",
       "      <th>6</th>\n",
       "      <td>97</td>\n",
       "      <td>72</td>\n",
       "      <td>97</td>\n",
       "      <td>97</td>\n",
       "      <td>91</td>\n",
       "      <td>97</td>\n",
       "      <td>97</td>\n",
       "      <td>97</td>\n",
       "      <td>97</td>\n",
       "      <td>97</td>\n",
       "      <td>97</td>\n",
       "      <td>97</td>\n",
       "      <td>97</td>\n",
       "      <td>97</td>\n",
       "      <td>97</td>\n",
       "      <td>97</td>\n",
       "      <td>97</td>\n",
       "      <td>97</td>\n",
       "      <td>97</td>\n",
       "    </tr>\n",
       "    <tr>\n",
       "      <th>7</th>\n",
       "      <td>133</td>\n",
       "      <td>98</td>\n",
       "      <td>133</td>\n",
       "      <td>133</td>\n",
       "      <td>124</td>\n",
       "      <td>133</td>\n",
       "      <td>133</td>\n",
       "      <td>133</td>\n",
       "      <td>133</td>\n",
       "      <td>133</td>\n",
       "      <td>133</td>\n",
       "      <td>133</td>\n",
       "      <td>133</td>\n",
       "      <td>133</td>\n",
       "      <td>133</td>\n",
       "      <td>133</td>\n",
       "      <td>133</td>\n",
       "      <td>133</td>\n",
       "      <td>133</td>\n",
       "    </tr>\n",
       "    <tr>\n",
       "      <th>8</th>\n",
       "      <td>155</td>\n",
       "      <td>101</td>\n",
       "      <td>155</td>\n",
       "      <td>155</td>\n",
       "      <td>137</td>\n",
       "      <td>155</td>\n",
       "      <td>155</td>\n",
       "      <td>155</td>\n",
       "      <td>155</td>\n",
       "      <td>155</td>\n",
       "      <td>155</td>\n",
       "      <td>155</td>\n",
       "      <td>155</td>\n",
       "      <td>155</td>\n",
       "      <td>155</td>\n",
       "      <td>155</td>\n",
       "      <td>155</td>\n",
       "      <td>155</td>\n",
       "      <td>155</td>\n",
       "    </tr>\n",
       "    <tr>\n",
       "      <th>9</th>\n",
       "      <td>155</td>\n",
       "      <td>110</td>\n",
       "      <td>155</td>\n",
       "      <td>155</td>\n",
       "      <td>141</td>\n",
       "      <td>155</td>\n",
       "      <td>155</td>\n",
       "      <td>155</td>\n",
       "      <td>155</td>\n",
       "      <td>155</td>\n",
       "      <td>155</td>\n",
       "      <td>155</td>\n",
       "      <td>155</td>\n",
       "      <td>155</td>\n",
       "      <td>155</td>\n",
       "      <td>155</td>\n",
       "      <td>155</td>\n",
       "      <td>155</td>\n",
       "      <td>155</td>\n",
       "    </tr>\n",
       "    <tr>\n",
       "      <th>10</th>\n",
       "      <td>207</td>\n",
       "      <td>125</td>\n",
       "      <td>207</td>\n",
       "      <td>207</td>\n",
       "      <td>186</td>\n",
       "      <td>207</td>\n",
       "      <td>207</td>\n",
       "      <td>207</td>\n",
       "      <td>207</td>\n",
       "      <td>207</td>\n",
       "      <td>207</td>\n",
       "      <td>207</td>\n",
       "      <td>207</td>\n",
       "      <td>207</td>\n",
       "      <td>207</td>\n",
       "      <td>207</td>\n",
       "      <td>207</td>\n",
       "      <td>207</td>\n",
       "      <td>207</td>\n",
       "    </tr>\n",
       "    <tr>\n",
       "      <th>11</th>\n",
       "      <td>125</td>\n",
       "      <td>76</td>\n",
       "      <td>125</td>\n",
       "      <td>125</td>\n",
       "      <td>108</td>\n",
       "      <td>125</td>\n",
       "      <td>125</td>\n",
       "      <td>125</td>\n",
       "      <td>125</td>\n",
       "      <td>125</td>\n",
       "      <td>125</td>\n",
       "      <td>125</td>\n",
       "      <td>125</td>\n",
       "      <td>125</td>\n",
       "      <td>125</td>\n",
       "      <td>125</td>\n",
       "      <td>125</td>\n",
       "      <td>125</td>\n",
       "      <td>125</td>\n",
       "    </tr>\n",
       "    <tr>\n",
       "      <th>12</th>\n",
       "      <td>2</td>\n",
       "      <td>1</td>\n",
       "      <td>2</td>\n",
       "      <td>2</td>\n",
       "      <td>2</td>\n",
       "      <td>2</td>\n",
       "      <td>2</td>\n",
       "      <td>2</td>\n",
       "      <td>2</td>\n",
       "      <td>2</td>\n",
       "      <td>2</td>\n",
       "      <td>2</td>\n",
       "      <td>2</td>\n",
       "      <td>2</td>\n",
       "      <td>2</td>\n",
       "      <td>2</td>\n",
       "      <td>2</td>\n",
       "      <td>2</td>\n",
       "      <td>2</td>\n",
       "    </tr>\n",
       "    <tr>\n",
       "      <th>13</th>\n",
       "      <td>8</td>\n",
       "      <td>2</td>\n",
       "      <td>8</td>\n",
       "      <td>8</td>\n",
       "      <td>8</td>\n",
       "      <td>8</td>\n",
       "      <td>8</td>\n",
       "      <td>8</td>\n",
       "      <td>8</td>\n",
       "      <td>8</td>\n",
       "      <td>8</td>\n",
       "      <td>8</td>\n",
       "      <td>8</td>\n",
       "      <td>8</td>\n",
       "      <td>8</td>\n",
       "      <td>8</td>\n",
       "      <td>8</td>\n",
       "      <td>8</td>\n",
       "      <td>8</td>\n",
       "    </tr>\n",
       "    <tr>\n",
       "      <th>14</th>\n",
       "      <td>6</td>\n",
       "      <td>3</td>\n",
       "      <td>6</td>\n",
       "      <td>6</td>\n",
       "      <td>6</td>\n",
       "      <td>6</td>\n",
       "      <td>6</td>\n",
       "      <td>6</td>\n",
       "      <td>6</td>\n",
       "      <td>6</td>\n",
       "      <td>6</td>\n",
       "      <td>6</td>\n",
       "      <td>6</td>\n",
       "      <td>6</td>\n",
       "      <td>6</td>\n",
       "      <td>6</td>\n",
       "      <td>6</td>\n",
       "      <td>6</td>\n",
       "      <td>6</td>\n",
       "    </tr>\n",
       "    <tr>\n",
       "      <th>15</th>\n",
       "      <td>10</td>\n",
       "      <td>1</td>\n",
       "      <td>10</td>\n",
       "      <td>10</td>\n",
       "      <td>10</td>\n",
       "      <td>10</td>\n",
       "      <td>10</td>\n",
       "      <td>10</td>\n",
       "      <td>10</td>\n",
       "      <td>10</td>\n",
       "      <td>10</td>\n",
       "      <td>10</td>\n",
       "      <td>10</td>\n",
       "      <td>10</td>\n",
       "      <td>10</td>\n",
       "      <td>10</td>\n",
       "      <td>10</td>\n",
       "      <td>10</td>\n",
       "      <td>10</td>\n",
       "    </tr>\n",
       "    <tr>\n",
       "      <th>16</th>\n",
       "      <td>18</td>\n",
       "      <td>11</td>\n",
       "      <td>18</td>\n",
       "      <td>18</td>\n",
       "      <td>15</td>\n",
       "      <td>18</td>\n",
       "      <td>18</td>\n",
       "      <td>18</td>\n",
       "      <td>18</td>\n",
       "      <td>18</td>\n",
       "      <td>18</td>\n",
       "      <td>18</td>\n",
       "      <td>18</td>\n",
       "      <td>18</td>\n",
       "      <td>18</td>\n",
       "      <td>18</td>\n",
       "      <td>18</td>\n",
       "      <td>18</td>\n",
       "      <td>18</td>\n",
       "    </tr>\n",
       "    <tr>\n",
       "      <th>17</th>\n",
       "      <td>26</td>\n",
       "      <td>16</td>\n",
       "      <td>26</td>\n",
       "      <td>26</td>\n",
       "      <td>22</td>\n",
       "      <td>26</td>\n",
       "      <td>26</td>\n",
       "      <td>26</td>\n",
       "      <td>26</td>\n",
       "      <td>26</td>\n",
       "      <td>26</td>\n",
       "      <td>26</td>\n",
       "      <td>26</td>\n",
       "      <td>26</td>\n",
       "      <td>26</td>\n",
       "      <td>26</td>\n",
       "      <td>26</td>\n",
       "      <td>26</td>\n",
       "      <td>26</td>\n",
       "    </tr>\n",
       "    <tr>\n",
       "      <th>18</th>\n",
       "      <td>16</td>\n",
       "      <td>7</td>\n",
       "      <td>16</td>\n",
       "      <td>16</td>\n",
       "      <td>13</td>\n",
       "      <td>16</td>\n",
       "      <td>16</td>\n",
       "      <td>16</td>\n",
       "      <td>16</td>\n",
       "      <td>16</td>\n",
       "      <td>16</td>\n",
       "      <td>16</td>\n",
       "      <td>16</td>\n",
       "      <td>16</td>\n",
       "      <td>16</td>\n",
       "      <td>16</td>\n",
       "      <td>16</td>\n",
       "      <td>16</td>\n",
       "      <td>16</td>\n",
       "    </tr>\n",
       "    <tr>\n",
       "      <th>19</th>\n",
       "      <td>42</td>\n",
       "      <td>26</td>\n",
       "      <td>42</td>\n",
       "      <td>42</td>\n",
       "      <td>37</td>\n",
       "      <td>42</td>\n",
       "      <td>42</td>\n",
       "      <td>42</td>\n",
       "      <td>42</td>\n",
       "      <td>42</td>\n",
       "      <td>42</td>\n",
       "      <td>42</td>\n",
       "      <td>42</td>\n",
       "      <td>42</td>\n",
       "      <td>42</td>\n",
       "      <td>42</td>\n",
       "      <td>42</td>\n",
       "      <td>42</td>\n",
       "      <td>42</td>\n",
       "    </tr>\n",
       "    <tr>\n",
       "      <th>20</th>\n",
       "      <td>50</td>\n",
       "      <td>33</td>\n",
       "      <td>50</td>\n",
       "      <td>50</td>\n",
       "      <td>47</td>\n",
       "      <td>50</td>\n",
       "      <td>50</td>\n",
       "      <td>50</td>\n",
       "      <td>50</td>\n",
       "      <td>50</td>\n",
       "      <td>50</td>\n",
       "      <td>50</td>\n",
       "      <td>50</td>\n",
       "      <td>50</td>\n",
       "      <td>50</td>\n",
       "      <td>50</td>\n",
       "      <td>50</td>\n",
       "      <td>50</td>\n",
       "      <td>50</td>\n",
       "    </tr>\n",
       "    <tr>\n",
       "      <th>21</th>\n",
       "      <td>75</td>\n",
       "      <td>49</td>\n",
       "      <td>75</td>\n",
       "      <td>75</td>\n",
       "      <td>65</td>\n",
       "      <td>75</td>\n",
       "      <td>75</td>\n",
       "      <td>75</td>\n",
       "      <td>75</td>\n",
       "      <td>75</td>\n",
       "      <td>75</td>\n",
       "      <td>75</td>\n",
       "      <td>75</td>\n",
       "      <td>75</td>\n",
       "      <td>75</td>\n",
       "      <td>75</td>\n",
       "      <td>75</td>\n",
       "      <td>75</td>\n",
       "      <td>75</td>\n",
       "    </tr>\n",
       "    <tr>\n",
       "      <th>22</th>\n",
       "      <td>121</td>\n",
       "      <td>67</td>\n",
       "      <td>121</td>\n",
       "      <td>121</td>\n",
       "      <td>99</td>\n",
       "      <td>121</td>\n",
       "      <td>121</td>\n",
       "      <td>121</td>\n",
       "      <td>121</td>\n",
       "      <td>121</td>\n",
       "      <td>121</td>\n",
       "      <td>121</td>\n",
       "      <td>121</td>\n",
       "      <td>121</td>\n",
       "      <td>121</td>\n",
       "      <td>121</td>\n",
       "      <td>121</td>\n",
       "      <td>121</td>\n",
       "      <td>121</td>\n",
       "    </tr>\n",
       "    <tr>\n",
       "      <th>23</th>\n",
       "      <td>207</td>\n",
       "      <td>121</td>\n",
       "      <td>207</td>\n",
       "      <td>207</td>\n",
       "      <td>177</td>\n",
       "      <td>207</td>\n",
       "      <td>207</td>\n",
       "      <td>207</td>\n",
       "      <td>207</td>\n",
       "      <td>207</td>\n",
       "      <td>207</td>\n",
       "      <td>207</td>\n",
       "      <td>207</td>\n",
       "      <td>207</td>\n",
       "      <td>207</td>\n",
       "      <td>207</td>\n",
       "      <td>207</td>\n",
       "      <td>207</td>\n",
       "      <td>207</td>\n",
       "    </tr>\n",
       "    <tr>\n",
       "      <th rowspan=\"5\" valign=\"top\">2</th>\n",
       "      <th>3</th>\n",
       "      <td>1</td>\n",
       "      <td>0</td>\n",
       "      <td>1</td>\n",
       "      <td>1</td>\n",
       "      <td>0</td>\n",
       "      <td>1</td>\n",
       "      <td>1</td>\n",
       "      <td>1</td>\n",
       "      <td>1</td>\n",
       "      <td>1</td>\n",
       "      <td>1</td>\n",
       "      <td>1</td>\n",
       "      <td>1</td>\n",
       "      <td>1</td>\n",
       "      <td>1</td>\n",
       "      <td>1</td>\n",
       "      <td>1</td>\n",
       "      <td>1</td>\n",
       "      <td>1</td>\n",
       "    </tr>\n",
       "    <tr>\n",
       "      <th>6</th>\n",
       "      <td>1</td>\n",
       "      <td>1</td>\n",
       "      <td>1</td>\n",
       "      <td>1</td>\n",
       "      <td>1</td>\n",
       "      <td>1</td>\n",
       "      <td>1</td>\n",
       "      <td>1</td>\n",
       "      <td>1</td>\n",
       "      <td>1</td>\n",
       "      <td>1</td>\n",
       "      <td>1</td>\n",
       "      <td>1</td>\n",
       "      <td>1</td>\n",
       "      <td>1</td>\n",
       "      <td>1</td>\n",
       "      <td>1</td>\n",
       "      <td>1</td>\n",
       "      <td>1</td>\n",
       "    </tr>\n",
       "    <tr>\n",
       "      <th>9</th>\n",
       "      <td>1</td>\n",
       "      <td>0</td>\n",
       "      <td>1</td>\n",
       "      <td>1</td>\n",
       "      <td>1</td>\n",
       "      <td>1</td>\n",
       "      <td>1</td>\n",
       "      <td>1</td>\n",
       "      <td>1</td>\n",
       "      <td>1</td>\n",
       "      <td>1</td>\n",
       "      <td>1</td>\n",
       "      <td>1</td>\n",
       "      <td>1</td>\n",
       "      <td>1</td>\n",
       "      <td>1</td>\n",
       "      <td>1</td>\n",
       "      <td>1</td>\n",
       "      <td>1</td>\n",
       "    </tr>\n",
       "    <tr>\n",
       "      <th>10</th>\n",
       "      <td>3</td>\n",
       "      <td>1</td>\n",
       "      <td>3</td>\n",
       "      <td>3</td>\n",
       "      <td>3</td>\n",
       "      <td>3</td>\n",
       "      <td>3</td>\n",
       "      <td>3</td>\n",
       "      <td>3</td>\n",
       "      <td>3</td>\n",
       "      <td>3</td>\n",
       "      <td>3</td>\n",
       "      <td>3</td>\n",
       "      <td>3</td>\n",
       "      <td>3</td>\n",
       "      <td>3</td>\n",
       "      <td>3</td>\n",
       "      <td>3</td>\n",
       "      <td>3</td>\n",
       "    </tr>\n",
       "    <tr>\n",
       "      <th>11</th>\n",
       "      <td>2</td>\n",
       "      <td>1</td>\n",
       "      <td>2</td>\n",
       "      <td>2</td>\n",
       "      <td>2</td>\n",
       "      <td>2</td>\n",
       "      <td>2</td>\n",
       "      <td>2</td>\n",
       "      <td>2</td>\n",
       "      <td>2</td>\n",
       "      <td>2</td>\n",
       "      <td>2</td>\n",
       "      <td>2</td>\n",
       "      <td>2</td>\n",
       "      <td>2</td>\n",
       "      <td>2</td>\n",
       "      <td>2</td>\n",
       "      <td>2</td>\n",
       "      <td>2</td>\n",
       "    </tr>\n",
       "  </tbody>\n",
       "</table>\n",
       "</div>"
      ],
      "text/plain": [
       "                     callsign number icao24 registration typecode origin  \\\n",
       "                        count  count  count        count    count  count   \n",
       "Day First_Seen_Hours                                                       \n",
       "1   0                     295    183    295          295      259    295   \n",
       "    1                     228    143    228          228      209    228   \n",
       "    2                     258    170    258          258      237    258   \n",
       "    3                     158     89    158          158      143    158   \n",
       "    4                      89     52     89           89       81     89   \n",
       "    5                      98     67     98           98       92     98   \n",
       "    6                      97     72     97           97       91     97   \n",
       "    7                     133     98    133          133      124    133   \n",
       "    8                     155    101    155          155      137    155   \n",
       "    9                     155    110    155          155      141    155   \n",
       "    10                    207    125    207          207      186    207   \n",
       "    11                    125     76    125          125      108    125   \n",
       "    12                      2      1      2            2        2      2   \n",
       "    13                      8      2      8            8        8      8   \n",
       "    14                      6      3      6            6        6      6   \n",
       "    15                     10      1     10           10       10     10   \n",
       "    16                     18     11     18           18       15     18   \n",
       "    17                     26     16     26           26       22     26   \n",
       "    18                     16      7     16           16       13     16   \n",
       "    19                     42     26     42           42       37     42   \n",
       "    20                     50     33     50           50       47     50   \n",
       "    21                     75     49     75           75       65     75   \n",
       "    22                    121     67    121          121       99    121   \n",
       "    23                    207    121    207          207      177    207   \n",
       "2   3                       1      0      1            1        0      1   \n",
       "    6                       1      1      1            1        1      1   \n",
       "    9                       1      0      1            1        1      1   \n",
       "    10                      3      1      3            3        3      3   \n",
       "    11                      2      1      2            2        2      2   \n",
       "\n",
       "                     destination firstseen lastseen   day Name_origin  \\\n",
       "                           count     count    count count       count   \n",
       "Day First_Seen_Hours                                                    \n",
       "1   0                        295       295      295   295         295   \n",
       "    1                        228       228      228   228         228   \n",
       "    2                        258       258      258   258         258   \n",
       "    3                        158       158      158   158         158   \n",
       "    4                         89        89       89    89          89   \n",
       "    5                         98        98       98    98          98   \n",
       "    6                         97        97       97    97          97   \n",
       "    7                        133       133      133   133         133   \n",
       "    8                        155       155      155   155         155   \n",
       "    9                        155       155      155   155         155   \n",
       "    10                       207       207      207   207         207   \n",
       "    11                       125       125      125   125         125   \n",
       "    12                         2         2        2     2           2   \n",
       "    13                         8         8        8     8           8   \n",
       "    14                         6         6        6     6           6   \n",
       "    15                        10        10       10    10          10   \n",
       "    16                        18        18       18    18          18   \n",
       "    17                        26        26       26    26          26   \n",
       "    18                        16        16       16    16          16   \n",
       "    19                        42        42       42    42          42   \n",
       "    20                        50        50       50    50          50   \n",
       "    21                        75        75       75    75          75   \n",
       "    22                       121       121      121   121         121   \n",
       "    23                       207       207      207   207         207   \n",
       "2   3                          1         1        1     1           1   \n",
       "    6                          1         1        1     1           1   \n",
       "    9                          1         1        1     1           1   \n",
       "    10                         3         3        3     3           3   \n",
       "    11                         2         2        2     2           2   \n",
       "\n",
       "                     IATA_origin ICAO_origin TZ_origin Name_destination  \\\n",
       "                           count       count     count            count   \n",
       "Day First_Seen_Hours                                                      \n",
       "1   0                        295         295       295              295   \n",
       "    1                        228         228       228              228   \n",
       "    2                        258         258       258              258   \n",
       "    3                        158         158       158              158   \n",
       "    4                         89          89        89               89   \n",
       "    5                         98          98        98               98   \n",
       "    6                         97          97        97               97   \n",
       "    7                        133         133       133              133   \n",
       "    8                        155         155       155              155   \n",
       "    9                        155         155       155              155   \n",
       "    10                       207         207       207              207   \n",
       "    11                       125         125       125              125   \n",
       "    12                         2           2         2                2   \n",
       "    13                         8           8         8                8   \n",
       "    14                         6           6         6                6   \n",
       "    15                        10          10        10               10   \n",
       "    16                        18          18        18               18   \n",
       "    17                        26          26        26               26   \n",
       "    18                        16          16        16               16   \n",
       "    19                        42          42        42               42   \n",
       "    20                        50          50        50               50   \n",
       "    21                        75          75        75               75   \n",
       "    22                       121         121       121              121   \n",
       "    23                       207         207       207              207   \n",
       "2   3                          1           1         1                1   \n",
       "    6                          1           1         1                1   \n",
       "    9                          1           1         1                1   \n",
       "    10                         3           3         3                3   \n",
       "    11                         2           2         2                2   \n",
       "\n",
       "                     IATA_destination ICAO_destination TZ_destination ori_dest  \n",
       "                                count            count          count    count  \n",
       "Day First_Seen_Hours                                                            \n",
       "1   0                             295              295            295      295  \n",
       "    1                             228              228            228      228  \n",
       "    2                             258              258            258      258  \n",
       "    3                             158              158            158      158  \n",
       "    4                              89               89             89       89  \n",
       "    5                              98               98             98       98  \n",
       "    6                              97               97             97       97  \n",
       "    7                             133              133            133      133  \n",
       "    8                             155              155            155      155  \n",
       "    9                             155              155            155      155  \n",
       "    10                            207              207            207      207  \n",
       "    11                            125              125            125      125  \n",
       "    12                              2                2              2        2  \n",
       "    13                              8                8              8        8  \n",
       "    14                              6                6              6        6  \n",
       "    15                             10               10             10       10  \n",
       "    16                             18               18             18       18  \n",
       "    17                             26               26             26       26  \n",
       "    18                             16               16             16       16  \n",
       "    19                             42               42             42       42  \n",
       "    20                             50               50             50       50  \n",
       "    21                             75               75             75       75  \n",
       "    22                            121              121            121      121  \n",
       "    23                            207              207            207      207  \n",
       "2   3                               1                1              1        1  \n",
       "    6                               1                1              1        1  \n",
       "    9                               1                1              1        1  \n",
       "    10                              3                3              3        3  \n",
       "    11                              2                2              2        2  "
      ]
     },
     "execution_count": 140,
     "metadata": {},
     "output_type": "execute_result"
    }
   ],
   "source": [
    "flightlist_destination.groupby([flightlist_destination['day'].dt.day.rename('Day'), flightlist_destination['firstseen'].dt.hour.rename('First_Seen_Hours')]).agg({'count'})"
   ]
  },
  {
   "cell_type": "markdown",
   "metadata": {},
   "source": [
    "#### Frequency of end point airports per day per hour "
   ]
  },
  {
   "cell_type": "code",
   "execution_count": 165,
   "metadata": {
    "ExecuteTime": {
     "end_time": "2020-07-27T11:01:16.765758Z",
     "start_time": "2020-07-27T11:01:16.735439Z"
    }
   },
   "outputs": [],
   "source": [
    "ori_dest = flightlist_destination.groupby([flightlist_destination['day'].dt.day.rename('Day'), flightlist_destination['firstseen'].dt.hour.rename('First_Seen_Hours')])['ori_dest'].value_counts().to_frame()"
   ]
  },
  {
   "cell_type": "code",
   "execution_count": 170,
   "metadata": {
    "ExecuteTime": {
     "end_time": "2020-07-27T11:02:33.567441Z",
     "start_time": "2020-07-27T11:02:33.552093Z"
    }
   },
   "outputs": [],
   "source": [
    "ori_dest.columns = ['Count']\n",
    "ori_dest = ori_dest.reset_index()"
   ]
  },
  {
   "cell_type": "markdown",
   "metadata": {},
   "source": [
    "#### Frequency of origin airports per day per hour"
   ]
  },
  {
   "cell_type": "code",
   "execution_count": 172,
   "metadata": {
    "ExecuteTime": {
     "end_time": "2020-07-27T11:03:22.410137Z",
     "start_time": "2020-07-27T11:03:22.386923Z"
    }
   },
   "outputs": [],
   "source": [
    "ori_hour = flightlist_destination.groupby([flightlist_destination['day'].dt.day.rename('Day'), flightlist_destination['firstseen'].dt.hour.rename('First_Seen_Hours')])['origin'].value_counts().to_frame()"
   ]
  },
  {
   "cell_type": "code",
   "execution_count": 173,
   "metadata": {
    "ExecuteTime": {
     "end_time": "2020-07-27T11:03:55.927161Z",
     "start_time": "2020-07-27T11:03:55.902757Z"
    }
   },
   "outputs": [],
   "source": [
    "ori_hour.columns = ['Count']\n",
    "ori_hour = ori_hour.reset_index()"
   ]
  },
  {
   "cell_type": "markdown",
   "metadata": {
    "ExecuteTime": {
     "end_time": "2020-07-27T11:04:01.719053Z",
     "start_time": "2020-07-27T11:04:01.687440Z"
    }
   },
   "source": [
    "#### Frequency of destination airports per day per hour"
   ]
  },
  {
   "cell_type": "code",
   "execution_count": 175,
   "metadata": {
    "ExecuteTime": {
     "end_time": "2020-07-27T11:05:05.736106Z",
     "start_time": "2020-07-27T11:05:05.709950Z"
    }
   },
   "outputs": [],
   "source": [
    "dest_hour = flightlist_destination.groupby([flightlist_destination['day'].dt.day.rename('Day'), flightlist_destination['firstseen'].dt.hour.rename('First_Seen_Hours')])['destination'].value_counts().to_frame()"
   ]
  },
  {
   "cell_type": "code",
   "execution_count": 176,
   "metadata": {
    "ExecuteTime": {
     "end_time": "2020-07-27T11:05:19.144863Z",
     "start_time": "2020-07-27T11:05:19.121811Z"
    }
   },
   "outputs": [],
   "source": [
    "dest_hour.columns = ['Count']\n",
    "dest_hour = dest_hour.reset_index()"
   ]
  },
  {
   "cell_type": "code",
   "execution_count": 177,
   "metadata": {
    "ExecuteTime": {
     "end_time": "2020-07-27T11:05:51.791502Z",
     "start_time": "2020-07-27T11:05:51.771247Z"
    }
   },
   "outputs": [
    {
     "data": {
      "text/plain": [
       "Index(['callsign', 'number', 'icao24', 'registration', 'typecode', 'origin',\n",
       "       'destination', 'firstseen', 'lastseen', 'day', 'Name_origin',\n",
       "       'IATA_origin', 'ICAO_origin', 'TZ_origin', 'Name_destination',\n",
       "       'IATA_destination', 'ICAO_destination', 'TZ_destination', 'ori_dest'],\n",
       "      dtype='object')"
      ]
     },
     "execution_count": 177,
     "metadata": {},
     "output_type": "execute_result"
    }
   ],
   "source": [
    "flightlist_destination.columns"
   ]
  },
  {
   "cell_type": "code",
   "execution_count": 182,
   "metadata": {
    "ExecuteTime": {
     "end_time": "2020-07-27T11:06:32.432368Z",
     "start_time": "2020-07-27T11:06:32.416097Z"
    }
   },
   "outputs": [
    {
     "data": {
      "text/plain": [
       "B738    274\n",
       "B737    209\n",
       "B763    159\n",
       "B752    135\n",
       "A306    112\n",
       "       ... \n",
       "C68A      1\n",
       "B773      1\n",
       "B190      1\n",
       "GL5T      1\n",
       "BE20      1\n",
       "Name: typecode, Length: 68, dtype: int64"
      ]
     },
     "execution_count": 182,
     "metadata": {},
     "output_type": "execute_result"
    }
   ],
   "source": [
    "flightlist_destination['typecode'].value_counts()"
   ]
  },
  {
   "cell_type": "markdown",
   "metadata": {},
   "source": [
    "## Plotting"
   ]
  },
  {
   "cell_type": "markdown",
   "metadata": {},
   "source": [
    "Plotting chart on origin airport frequency"
   ]
  },
  {
   "cell_type": "code",
   "execution_count": 206,
   "metadata": {
    "ExecuteTime": {
     "end_time": "2020-07-27T11:24:18.026734Z",
     "start_time": "2020-07-27T11:24:18.014883Z"
    }
   },
   "outputs": [],
   "source": [
    "flightlist_destination_top_airport_origin = flightlist_destination[flightlist_destination['origin'].isin(busy_air)]"
   ]
  },
  {
   "cell_type": "markdown",
   "metadata": {},
   "source": [
    "#### For origin"
   ]
  },
  {
   "cell_type": "code",
   "execution_count": 207,
   "metadata": {
    "ExecuteTime": {
     "end_time": "2020-07-27T11:24:20.396192Z",
     "start_time": "2020-07-27T11:24:19.682270Z"
    }
   },
   "outputs": [
    {
     "data": {
      "image/png": "[encoded data removed]",
      "text/plain": [
       "<Figure size 1440x720 with 2 Axes>"
      ]
     },
     "metadata": {},
     "output_type": "display_data"
    }
   ],
   "source": [
    "# origin_count = flightlist_destination_top_airport_origin['origin'].value_counts()\n",
    "f,ax=plt.subplots(1,2,figsize=(20,10))\n",
    "flightlist_destination_top_airport_origin['origin'].value_counts().plot.pie(autopct='%1.2f%%',ax=ax[1],shadow=False)                                                  \n",
    "ax[1].set_title('Percentage of Flights from Origin')\n",
    "ax[1].set_ylabel('')\n",
    "sns.countplot('origin',order = flightlist_destination_top_airport_origin['origin'].value_counts().index, data=flightlist_destination_top_airport_origin,ax=ax[0])\n",
    "ax[0].set_title('Frequency Distribution of Flights from Origin')\n",
    "ax[0].set_ylabel('Flight Count')\n",
    "plt.show()"
   ]
  },
  {
   "cell_type": "code",
   "execution_count": 210,
   "metadata": {
    "ExecuteTime": {
     "end_time": "2020-07-27T11:24:43.942093Z",
     "start_time": "2020-07-27T11:24:43.935312Z"
    }
   },
   "outputs": [
    {
     "data": {
      "text/plain": [
       "(600, 19)"
      ]
     },
     "execution_count": 210,
     "metadata": {},
     "output_type": "execute_result"
    }
   ],
   "source": [
    "flightlist_destination_top_airport_origin.shape"
   ]
  },
  {
   "cell_type": "markdown",
   "metadata": {},
   "source": [
    "#### For destination"
   ]
  },
  {
   "cell_type": "code",
   "execution_count": 208,
   "metadata": {
    "ExecuteTime": {
     "end_time": "2020-07-27T11:24:25.626127Z",
     "start_time": "2020-07-27T11:24:25.615848Z"
    }
   },
   "outputs": [],
   "source": [
    "flightlist_destination_top_airport_destination = flightlist_destination[flightlist_destination['destination'].isin(busy_air)]"
   ]
  },
  {
   "cell_type": "code",
   "execution_count": 211,
   "metadata": {
    "ExecuteTime": {
     "end_time": "2020-07-27T11:24:55.176148Z",
     "start_time": "2020-07-27T11:24:55.164573Z"
    }
   },
   "outputs": [
    {
     "data": {
      "text/plain": [
       "(543, 19)"
      ]
     },
     "execution_count": 211,
     "metadata": {},
     "output_type": "execute_result"
    }
   ],
   "source": [
    "flightlist_destination_top_airport_destination.shape"
   ]
  },
  {
   "cell_type": "code",
   "execution_count": 212,
   "metadata": {
    "ExecuteTime": {
     "end_time": "2020-07-27T11:25:17.580957Z",
     "start_time": "2020-07-27T11:25:16.932916Z"
    }
   },
   "outputs": [
    {
     "data": {
      "image/png": "[encoded data removed]",
      "text/plain": [
       "<Figure size 1440x720 with 2 Axes>"
      ]
     },
     "metadata": {},
     "output_type": "display_data"
    }
   ],
   "source": [
    "# destination_count = flightlist_destination_top_airport_destination['destination'].value_counts()\n",
    "f,ax=plt.subplots(1,2,figsize=(20,10))\n",
    "flightlist_destination_top_airport_destination['destination'].value_counts().plot.pie(autopct='%1.2f%%',ax=ax[1],shadow=False)                                                  \n",
    "ax[1].set_title('Percentage of Flights to Destination')\n",
    "ax[1].set_ylabel('')\n",
    "sns.countplot('origin',order = flightlist_destination_top_airport_destination['destination'].value_counts().index, data=flightlist_destination_top_airport_destination,ax=ax[0])\n",
    "ax[0].set_title('Frequency Distribution of Flights to Destination')\n",
    "ax[0].set_ylabel('Flight Count')\n",
    "plt.show()"
   ]
  },
  {
   "cell_type": "code",
   "execution_count": null,
   "metadata": {},
   "outputs": [],
   "source": []
  }
 ],
 "metadata": {
  "kernelspec": {
   "display_name": "Python 3",
   "language": "python",
   "name": "python3"
  },
  "language_info": {
   "codemirror_mode": {
    "name": "ipython",
    "version": 3
   },
   "file_extension": ".py",
   "mimetype": "text/x-python",
   "name": "python",
   "nbconvert_exporter": "python",
   "pygments_lexer": "ipython3",
   "version": "3.7.6"
  }
 },
 "nbformat": 4,
 "nbformat_minor": 4
}
